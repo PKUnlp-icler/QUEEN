{
 "cells": [
  {
   "cell_type": "code",
   "execution_count": 31,
   "metadata": {
    "scrolled": true
   },
   "outputs": [
    {
     "name": "stdout",
     "output_type": "stream",
     "text": [
      "2022-02-08 20:31:14,796 - INFO - pytorch_pretrained_bert.modeling - Better speed can be achieved with apex installed from https://www.github.com/nvidia/apex .\n",
      "2022-02-08 20:31:15,485 - INFO - pytorch_transformers.modeling_bert - Better speed can be achieved with apex installed from https://www.github.com/nvidia/apex .\n",
      "2022-02-08 20:31:15,490 - INFO - pytorch_transformers.modeling_xlnet - Better speed can be achieved with apex installed from https://www.github.com/nvidia/apex .\n",
      "2022-02-08 20:31:15,746 - INFO - allennlp.common.registrable - instantiating registered subclass relu of <class 'allennlp.nn.activations.Activation'>\n",
      "2022-02-08 20:31:15,747 - INFO - allennlp.common.registrable - instantiating registered subclass relu of <class 'allennlp.nn.activations.Activation'>\n",
      "2022-02-08 20:31:15,748 - INFO - allennlp.common.registrable - instantiating registered subclass relu of <class 'allennlp.nn.activations.Activation'>\n",
      "2022-02-08 20:31:15,748 - INFO - allennlp.common.registrable - instantiating registered subclass relu of <class 'allennlp.nn.activations.Activation'>\n",
      "2022-02-08 20:31:16.377665: I tensorflow/stream_executor/platform/default/dso_loader.cc:53] Successfully opened dynamic library libcudart.so.11.0\n",
      "2022-02-08 20:31:23,948 - INFO - allennlp.common.checks - Pytorch version: 1.4.0\n",
      "2022-02-08 20:31:25,002 - INFO - pytorch_pretrained_bert.tokenization - loading vocabulary file https://s3.amazonaws.com/models.huggingface.co/bert/bert-base-chinese-vocab.txt from cache at /home/sishuzheng/.pytorch_pretrained_bert/8a0c070123c1f794c42a29c6904beb7c1b8715741e235bee04aca2c7636fc83f.9b42061518a39ca00b8b52059fd2bede8daa613f8a8671500e518a8c29de8c00\n",
      "2022-02-08 20:31:25,028 - INFO - allennlp.training.util - Reading training data from ../dataset/restoration/train.txt\n",
      "193768it [01:43, 1872.48it/s]\n",
      "2022-02-08 20:33:08,845 - INFO - allennlp.training.util - Reading validation data from ../dataset/restoration/test.txt\n",
      "5103it [00:02, 2277.97it/s]\n",
      "2022-02-08 20:33:11,375 - INFO - allennlp.data.vocabulary - Fitting token dictionary from dataset.\n",
      "198873it [00:02, 70489.74it/s]\n",
      "  0%|          | 0/32295 [00:00<?, ?it/s]2022-02-08 20:33:25,838 - WARNING - allennlp.training.util - Metrics with names beginning with \"_\" will not be logged to the tqdm progress bar.\n",
      "ROUGE: 0.0000, EM: 0.0000, F1: 0.0000, F2: 0.0000, F3: 0.0000, BLEU4: 0.0000, loss: 1.3663 ||: 100%|##########| 32295/32295 [1:23:13<00:00,  6.47it/s] \n",
      "ROUGE: 0.9161, EM: 0.5457, F1: 0.6111, F2: 0.5127, F3: 0.4503, BLEU4: 0.8366, loss: 1.1657 ||: 100%|##########| 851/851 [16:57<00:00,  1.20s/it]\n",
      "2022-02-08 22:13:38,881 - INFO - allennlp.training.tensorboard_writer -                     Training |  Validation\n",
      "2022-02-08 22:13:38,885 - INFO - allennlp.training.tensorboard_writer - ROUGE           |     0.000  |     0.916\n",
      "2022-02-08 22:13:38,886 - INFO - allennlp.training.tensorboard_writer - BLEU4           |     0.000  |     0.837\n",
      "2022-02-08 22:13:38,887 - INFO - allennlp.training.tensorboard_writer - _P3             |     0.000  |     0.588\n",
      "2022-02-08 22:13:38,888 - INFO - allennlp.training.tensorboard_writer - _P1             |     0.000  |     0.804\n",
      "2022-02-08 22:13:38,889 - INFO - allennlp.training.tensorboard_writer - gpu_0_memory_MB |  1737.000  |       N/A\n",
      "2022-02-08 22:13:38,890 - INFO - allennlp.training.tensorboard_writer - _R3             |     0.000  |     0.365\n",
      "2022-02-08 22:13:38,892 - INFO - allennlp.training.tensorboard_writer - _P2             |     0.000  |     0.671\n",
      "2022-02-08 22:13:38,893 - INFO - allennlp.training.tensorboard_writer - _ROUGE2         |     0.000  |     0.865\n",
      "2022-02-08 22:13:38,894 - INFO - allennlp.training.tensorboard_writer - _BLEU2          |     0.000  |     0.879\n",
      "2022-02-08 22:13:38,895 - INFO - allennlp.training.tensorboard_writer - _ROUGE1         |     0.000  |     0.924\n",
      "2022-02-08 22:13:38,895 - INFO - allennlp.training.tensorboard_writer - EM              |     0.000  |     0.546\n",
      "2022-02-08 22:13:38,896 - INFO - allennlp.training.tensorboard_writer - _BLEU3          |     0.000  |     0.858\n",
      "2022-02-08 22:13:38,896 - INFO - allennlp.training.tensorboard_writer - _R1             |     0.000  |     0.493\n",
      "2022-02-08 22:13:38,898 - INFO - allennlp.training.tensorboard_writer - _R2             |     0.000  |     0.415\n",
      "2022-02-08 22:13:38,898 - INFO - allennlp.training.tensorboard_writer - F1              |     0.000  |     0.611\n",
      "2022-02-08 22:13:38,899 - INFO - allennlp.training.tensorboard_writer - _BLEU1          |     0.000  |     0.901\n",
      "2022-02-08 22:13:38,899 - INFO - allennlp.training.tensorboard_writer - loss            |     1.366  |     1.166\n",
      "2022-02-08 22:13:38,902 - INFO - allennlp.training.tensorboard_writer - F3              |     0.000  |     0.450\n",
      "2022-02-08 22:13:38,903 - INFO - allennlp.training.tensorboard_writer - F2              |     0.000  |     0.513\n",
      "2022-02-08 22:13:38,904 - INFO - allennlp.training.tensorboard_writer - cpu_memory_MB   |  15585.444  |       N/A\n",
      "2022-02-08 22:13:40,436 - INFO - allennlp.training.checkpointer - Best validation performance so far. Copying weights to '../checkpoints/run_multi_bert/best.th'.\n",
      "ROUGE: 0.0000, EM: 0.0000, F1: 0.0000, F2: 0.0000, F3: 0.0000, BLEU4: 0.0000, loss: 1.1296 ||: 100%|##########| 32295/32295 [1:21:09<00:00,  6.63it/s]\n",
      "ROUGE: 0.9182, EM: 0.5596, F1: 0.6232, F2: 0.5331, F3: 0.4750, BLEU4: 0.8410, loss: 1.1553 ||: 100%|##########| 851/851 [17:01<00:00,  1.20s/it]\n",
      "2022-02-08 23:51:55,599 - INFO - allennlp.training.tensorboard_writer -                     Training |  Validation\n",
      "2022-02-08 23:51:55,601 - INFO - allennlp.training.tensorboard_writer - ROUGE           |     0.000  |     0.918\n",
      "2022-02-08 23:51:55,602 - INFO - allennlp.training.tensorboard_writer - BLEU4           |     0.000  |     0.841\n",
      "2022-02-08 23:51:55,602 - INFO - allennlp.training.tensorboard_writer - _P3             |     0.000  |     0.621\n",
      "2022-02-08 23:51:55,603 - INFO - allennlp.training.tensorboard_writer - _P1             |     0.000  |     0.818\n",
      "2022-02-08 23:51:55,603 - INFO - allennlp.training.tensorboard_writer - gpu_0_memory_MB |  8593.000  |       N/A\n",
      "2022-02-08 23:51:55,606 - INFO - allennlp.training.tensorboard_writer - _R3             |     0.000  |     0.385\n",
      "2022-02-08 23:51:55,606 - INFO - allennlp.training.tensorboard_writer - _P2             |     0.000  |     0.698\n",
      "2022-02-08 23:51:55,607 - INFO - allennlp.training.tensorboard_writer - _ROUGE2         |     0.000  |     0.871\n",
      "2022-02-08 23:51:55,607 - INFO - allennlp.training.tensorboard_writer - _BLEU2          |     0.000  |     0.882\n",
      "2022-02-08 23:51:55,608 - INFO - allennlp.training.tensorboard_writer - _ROUGE1         |     0.000  |     0.926\n",
      "2022-02-08 23:51:55,611 - INFO - allennlp.training.tensorboard_writer - EM              |     0.000  |     0.560\n",
      "2022-02-08 23:51:55,612 - INFO - allennlp.training.tensorboard_writer - _BLEU3          |     0.000  |     0.862\n",
      "2022-02-08 23:51:55,612 - INFO - allennlp.training.tensorboard_writer - _R1             |     0.000  |     0.503\n",
      "2022-02-08 23:51:55,612 - INFO - allennlp.training.tensorboard_writer - _R2             |     0.000  |     0.431\n",
      "2022-02-08 23:51:55,613 - INFO - allennlp.training.tensorboard_writer - F1              |     0.000  |     0.623\n",
      "2022-02-08 23:51:55,616 - INFO - allennlp.training.tensorboard_writer - _BLEU1          |     0.000  |     0.903\n",
      "2022-02-08 23:51:55,618 - INFO - allennlp.training.tensorboard_writer - loss            |     1.130  |     1.155\n",
      "2022-02-08 23:51:55,618 - INFO - allennlp.training.tensorboard_writer - F3              |     0.000  |     0.475\n",
      "2022-02-08 23:51:55,618 - INFO - allennlp.training.tensorboard_writer - F2              |     0.000  |     0.533\n",
      "2022-02-08 23:51:55,619 - INFO - allennlp.training.tensorboard_writer - cpu_memory_MB   |  15929.212  |       N/A\n",
      "2022-02-08 23:51:57,088 - INFO - allennlp.training.checkpointer - Best validation performance so far. Copying weights to '../checkpoints/run_multi_bert/best.th'.\n",
      "ROUGE: 0.0000, EM: 0.0000, F1: 0.0000, F2: 0.0000, F3: 0.0000, BLEU4: 0.0000, loss: 0.9913 ||: 100%|##########| 32295/32295 [1:21:18<00:00,  6.62it/s]\n",
      "ROUGE: 0.9180, EM: 0.5600, F1: 0.6510, F2: 0.5570, F3: 0.4961, BLEU4: 0.8477, loss: 1.1643 ||: 100%|##########| 851/851 [17:17<00:00,  1.22s/it]\n",
      "2022-02-09 01:30:38,515 - INFO - allennlp.training.tensorboard_writer -                     Training |  Validation\n",
      "2022-02-09 01:30:38,516 - INFO - allennlp.training.tensorboard_writer - ROUGE           |     0.000  |     0.918\n",
      "2022-02-09 01:30:38,517 - INFO - allennlp.training.tensorboard_writer - BLEU4           |     0.000  |     0.848\n",
      "2022-02-09 01:30:38,519 - INFO - allennlp.training.tensorboard_writer - _P3             |     0.000  |     0.597\n",
      "2022-02-09 01:30:38,520 - INFO - allennlp.training.tensorboard_writer - _P1             |     0.000  |     0.791\n",
      "2022-02-09 01:30:38,521 - INFO - allennlp.training.tensorboard_writer - gpu_0_memory_MB |  8593.000  |       N/A\n",
      "2022-02-09 01:30:38,522 - INFO - allennlp.training.tensorboard_writer - _R3             |     0.000  |     0.424\n",
      "2022-02-09 01:30:38,522 - INFO - allennlp.training.tensorboard_writer - _P2             |     0.000  |     0.672\n",
      "2022-02-09 01:30:38,523 - INFO - allennlp.training.tensorboard_writer - _ROUGE2         |     0.000  |     0.871\n",
      "2022-02-09 01:30:38,524 - INFO - allennlp.training.tensorboard_writer - _BLEU2          |     0.000  |     0.891\n",
      "2022-02-09 01:30:38,525 - INFO - allennlp.training.tensorboard_writer - _ROUGE1         |     0.000  |     0.927\n",
      "2022-02-09 01:30:38,526 - INFO - allennlp.training.tensorboard_writer - EM              |     0.000  |     0.560\n",
      "2022-02-09 01:30:38,526 - INFO - allennlp.training.tensorboard_writer - _BLEU3          |     0.000  |     0.870\n",
      "2022-02-09 01:30:38,530 - INFO - allennlp.training.tensorboard_writer - _R1             |     0.000  |     0.553\n",
      "2022-02-09 01:30:38,531 - INFO - allennlp.training.tensorboard_writer - _R2             |     0.000  |     0.475\n",
      "2022-02-09 01:30:38,532 - INFO - allennlp.training.tensorboard_writer - F1              |     0.000  |     0.651\n",
      "2022-02-09 01:30:38,533 - INFO - allennlp.training.tensorboard_writer - _BLEU1          |     0.000  |     0.914\n",
      "2022-02-09 01:30:38,534 - INFO - allennlp.training.tensorboard_writer - loss            |     0.991  |     1.164\n",
      "2022-02-09 01:30:38,536 - INFO - allennlp.training.tensorboard_writer - F3              |     0.000  |     0.496\n",
      "2022-02-09 01:30:38,536 - INFO - allennlp.training.tensorboard_writer - F2              |     0.000  |     0.557\n",
      "2022-02-09 01:30:38,537 - INFO - allennlp.training.tensorboard_writer - cpu_memory_MB   |  15930.556  |       N/A\n",
      "2022-02-09 01:30:39,910 - INFO - allennlp.training.checkpointer - Best validation performance so far. Copying weights to '../checkpoints/run_multi_bert/best.th'.\n",
      "ROUGE: 0.0000, EM: 0.0000, F1: 0.0000, F2: 0.0000, F3: 0.0000, BLEU4: 0.0000, loss: 0.8632 ||: 100%|##########| 32295/32295 [1:21:40<00:00,  6.59it/s]\n",
      "ROUGE: 0.9150, EM: 0.5415, F1: 0.6843, F2: 0.5709, F3: 0.4997, BLEU4: 0.8497, loss: 1.3187 ||: 100%|##########| 851/851 [17:40<00:00,  1.25s/it]\n",
      "2022-02-09 03:10:06,693 - INFO - allennlp.training.tensorboard_writer -                     Training |  Validation\n",
      "2022-02-09 03:10:06,695 - INFO - allennlp.training.tensorboard_writer - ROUGE           |     0.000  |     0.915\n",
      "2022-02-09 03:10:06,696 - INFO - allennlp.training.tensorboard_writer - BLEU4           |     0.000  |     0.850\n",
      "2022-02-09 03:10:06,696 - INFO - allennlp.training.tensorboard_writer - _P3             |     0.000  |     0.555\n",
      "2022-02-09 03:10:06,697 - INFO - allennlp.training.tensorboard_writer - _P1             |     0.000  |     0.766\n",
      "2022-02-09 03:10:06,697 - INFO - allennlp.training.tensorboard_writer - gpu_0_memory_MB |  8593.000  |       N/A\n",
      "2022-02-09 03:10:06,701 - INFO - allennlp.training.tensorboard_writer - _R3             |     0.000  |     0.455\n",
      "2022-02-09 03:10:06,702 - INFO - allennlp.training.tensorboard_writer - _P2             |     0.000  |     0.636\n",
      "2022-02-09 03:10:06,703 - INFO - allennlp.training.tensorboard_writer - _ROUGE2         |     0.000  |     0.865\n",
      "2022-02-09 03:10:06,704 - INFO - allennlp.training.tensorboard_writer - _BLEU2          |     0.000  |     0.900\n",
      "2022-02-09 03:10:06,705 - INFO - allennlp.training.tensorboard_writer - _ROUGE1         |     0.000  |     0.926\n",
      "2022-02-09 03:10:06,707 - INFO - allennlp.training.tensorboard_writer - EM              |     0.000  |     0.542\n",
      "2022-02-09 03:10:06,707 - INFO - allennlp.training.tensorboard_writer - _BLEU3          |     0.000  |     0.875\n",
      "2022-02-09 03:10:06,708 - INFO - allennlp.training.tensorboard_writer - _R1             |     0.000  |     0.618\n",
      "2022-02-09 03:10:06,709 - INFO - allennlp.training.tensorboard_writer - _R2             |     0.000  |     0.518\n",
      "2022-02-09 03:10:06,709 - INFO - allennlp.training.tensorboard_writer - F1              |     0.000  |     0.684\n",
      "2022-02-09 03:10:06,711 - INFO - allennlp.training.tensorboard_writer - _BLEU1          |     0.000  |     0.926\n",
      "2022-02-09 03:10:06,711 - INFO - allennlp.training.tensorboard_writer - loss            |     0.863  |     1.319\n",
      "2022-02-09 03:10:06,713 - INFO - allennlp.training.tensorboard_writer - F3              |     0.000  |     0.500\n",
      "2022-02-09 03:10:06,713 - INFO - allennlp.training.tensorboard_writer - F2              |     0.000  |     0.571\n",
      "2022-02-09 03:10:06,715 - INFO - allennlp.training.tensorboard_writer - cpu_memory_MB   |  15931.808  |       N/A\n",
      "2022-02-09 03:10:07,993 - INFO - allennlp.training.checkpointer - Best validation performance so far. Copying weights to '../checkpoints/run_multi_bert/best.th'.\n",
      "ROUGE: 0.0000, EM: 0.0000, F1: 0.0000, F2: 0.0000, F3: 0.0000, BLEU4: 0.0000, loss: 0.7572 ||: 100%|##########| 32295/32295 [1:21:37<00:00,  6.59it/s]\n",
      "ROUGE: 0.9127, EM: 0.5433, F1: 0.6666, F2: 0.5596, F3: 0.4908, BLEU4: 0.8467, loss: 1.3868 ||: 100%|##########| 851/851 [17:30<00:00,  1.23s/it]\n",
      "2022-02-09 04:49:21,755 - INFO - allennlp.training.tensorboard_writer -                     Training |  Validation\n",
      "2022-02-09 04:49:21,757 - INFO - allennlp.training.tensorboard_writer - ROUGE           |     0.000  |     0.913\n",
      "2022-02-09 04:49:21,757 - INFO - allennlp.training.tensorboard_writer - BLEU4           |     0.000  |     0.847\n",
      "2022-02-09 04:49:21,758 - INFO - allennlp.training.tensorboard_writer - _P3             |     0.000  |     0.568\n",
      "2022-02-09 04:49:21,758 - INFO - allennlp.training.tensorboard_writer - _P1             |     0.000  |     0.777\n",
      "2022-02-09 04:49:21,758 - INFO - allennlp.training.tensorboard_writer - gpu_0_memory_MB |  8593.000  |       N/A\n",
      "2022-02-09 04:49:21,759 - INFO - allennlp.training.tensorboard_writer - _R3             |     0.000  |     0.432\n",
      "2022-02-09 04:49:21,759 - INFO - allennlp.training.tensorboard_writer - _P2             |     0.000  |     0.649\n",
      "2022-02-09 04:49:21,759 - INFO - allennlp.training.tensorboard_writer - _ROUGE2         |     0.000  |     0.864\n",
      "2022-02-09 04:49:21,760 - INFO - allennlp.training.tensorboard_writer - _BLEU2          |     0.000  |     0.895\n",
      "2022-02-09 04:49:21,760 - INFO - allennlp.training.tensorboard_writer - _ROUGE1         |     0.000  |     0.925\n",
      "2022-02-09 04:49:21,764 - INFO - allennlp.training.tensorboard_writer - EM              |     0.000  |     0.543\n",
      "2022-02-09 04:49:21,767 - INFO - allennlp.training.tensorboard_writer - _BLEU3          |     0.000  |     0.871\n",
      "2022-02-09 04:49:21,768 - INFO - allennlp.training.tensorboard_writer - _R1             |     0.000  |     0.584\n",
      "2022-02-09 04:49:21,769 - INFO - allennlp.training.tensorboard_writer - _R2             |     0.000  |     0.492\n",
      "2022-02-09 04:49:21,771 - INFO - allennlp.training.tensorboard_writer - F1              |     0.000  |     0.667\n",
      "2022-02-09 04:49:21,772 - INFO - allennlp.training.tensorboard_writer - _BLEU1          |     0.000  |     0.920\n",
      "2022-02-09 04:49:21,772 - INFO - allennlp.training.tensorboard_writer - loss            |     0.757  |     1.387\n",
      "2022-02-09 04:49:21,774 - INFO - allennlp.training.tensorboard_writer - F3              |     0.000  |     0.491\n",
      "2022-02-09 04:49:21,775 - INFO - allennlp.training.tensorboard_writer - F2              |     0.000  |     0.560\n",
      "2022-02-09 04:49:21,776 - INFO - allennlp.training.tensorboard_writer - cpu_memory_MB   |  15932.536  |       N/A\n",
      "ROUGE: 0.0000, EM: 0.0000, F1: 0.0000, F2: 0.0000, F3: 0.0000, BLEU4: 0.0000, loss: 0.6710 ||: 100%|##########| 32295/32295 [1:21:43<00:00,  6.59it/s]\n",
      "ROUGE: 0.9140, EM: 0.5476, F1: 0.6588, F2: 0.5580, F3: 0.4926, BLEU4: 0.8445, loss: 1.4351 ||: 100%|##########| 851/851 [17:23<00:00,  1.23s/it]\n",
      "2022-02-09 06:28:32,759 - INFO - allennlp.training.tensorboard_writer -                     Training |  Validation\n",
      "2022-02-09 06:28:32,760 - INFO - allennlp.training.tensorboard_writer - ROUGE           |     0.000  |     0.914\n",
      "2022-02-09 06:28:32,761 - INFO - allennlp.training.tensorboard_writer - BLEU4           |     0.000  |     0.845\n",
      "2022-02-09 06:28:32,762 - INFO - allennlp.training.tensorboard_writer - _P3             |     0.000  |     0.584\n",
      "2022-02-09 06:28:32,763 - INFO - allennlp.training.tensorboard_writer - _P1             |     0.000  |     0.787\n",
      "2022-02-09 06:28:32,763 - INFO - allennlp.training.tensorboard_writer - gpu_0_memory_MB |  8593.000  |       N/A\n",
      "2022-02-09 06:28:32,764 - INFO - allennlp.training.tensorboard_writer - _R3             |     0.000  |     0.426\n",
      "2022-02-09 06:28:32,764 - INFO - allennlp.training.tensorboard_writer - _P2             |     0.000  |     0.663\n",
      "2022-02-09 06:28:32,767 - INFO - allennlp.training.tensorboard_writer - _ROUGE2         |     0.000  |     0.866\n",
      "2022-02-09 06:28:32,767 - INFO - allennlp.training.tensorboard_writer - _BLEU2          |     0.000  |     0.892\n",
      "2022-02-09 06:28:32,769 - INFO - allennlp.training.tensorboard_writer - _ROUGE1         |     0.000  |     0.926\n",
      "2022-02-09 06:28:32,770 - INFO - allennlp.training.tensorboard_writer - EM              |     0.000  |     0.548\n",
      "2022-02-09 06:28:32,771 - INFO - allennlp.training.tensorboard_writer - _BLEU3          |     0.000  |     0.869\n",
      "2022-02-09 06:28:32,772 - INFO - allennlp.training.tensorboard_writer - _R1             |     0.000  |     0.567\n",
      "2022-02-09 06:28:32,773 - INFO - allennlp.training.tensorboard_writer - _R2             |     0.000  |     0.482\n",
      "2022-02-09 06:28:32,774 - INFO - allennlp.training.tensorboard_writer - F1              |     0.000  |     0.659\n",
      "2022-02-09 06:28:32,774 - INFO - allennlp.training.tensorboard_writer - _BLEU1          |     0.000  |     0.916\n",
      "2022-02-09 06:28:32,776 - INFO - allennlp.training.tensorboard_writer - loss            |     0.671  |     1.435\n",
      "2022-02-09 06:28:32,778 - INFO - allennlp.training.tensorboard_writer - F3              |     0.000  |     0.493\n",
      "2022-02-09 06:28:32,778 - INFO - allennlp.training.tensorboard_writer - F2              |     0.000  |     0.558\n",
      "2022-02-09 06:28:32,780 - INFO - allennlp.training.tensorboard_writer - cpu_memory_MB   |  15933.116  |       N/A\n",
      "ROUGE: 0.0000, EM: 0.0000, F1: 0.0000, F2: 0.0000, F3: 0.0000, BLEU4: 0.0000, loss: 0.5957 ||:  87%|########7 | 28180/32295 [1:11:33<09:47,  7.01it/s]"
     ]
    },
    {
     "name": "stderr",
     "output_type": "stream",
     "text": [
      "IOPub message rate exceeded.\n",
      "The notebook server will temporarily stop sending output\n",
      "to the client in order to avoid crashing it.\n",
      "To change this limit, set the config variable\n",
      "`--NotebookApp.iopub_msg_rate_limit`.\n",
      "\n",
      "Current values:\n",
      "NotebookApp.iopub_msg_rate_limit=1000.0 (msgs/sec)\n",
      "NotebookApp.rate_limit_window=3.0 (secs)\n",
      "\n"
     ]
    },
    {
     "name": "stdout",
     "output_type": "stream",
     "text": [
      "ROUGE: 0.0000, EM: 0.0000, F1: 0.0000, F2: 0.0000, F3: 0.0000, BLEU4: 0.0000, loss: 0.6004 ||: 100%|##########| 32295/32295 [1:21:59<00:00,  6.56it/s]\n",
      "ROUGE: 0.9134, EM: 0.5458, F1: 0.6636, F2: 0.5574, F3: 0.4898, BLEU4: 0.8456, loss: 1.5114 ||: 100%|##########| 851/851 [17:32<00:00,  1.24s/it]\n",
      "2022-02-09 08:08:09,466 - INFO - allennlp.training.tensorboard_writer -                     Training |  Validation\n",
      "2022-02-09 08:08:09,468 - INFO - allennlp.training.tensorboard_writer - ROUGE           |     0.000  |     0.913\n",
      "2022-02-09 08:08:09,469 - INFO - allennlp.training.tensorboard_writer - BLEU4           |     0.000  |     0.846\n",
      "2022-02-09 08:08:09,469 - INFO - allennlp.training.tensorboard_writer - _P3             |     0.000  |     0.564\n",
      "2022-02-09 08:08:09,469 - INFO - allennlp.training.tensorboard_writer - _P1             |     0.000  |     0.772\n",
      "2022-02-09 08:08:09,471 - INFO - allennlp.training.tensorboard_writer - gpu_0_memory_MB |  8593.000  |       N/A\n",
      "2022-02-09 08:08:09,471 - INFO - allennlp.training.tensorboard_writer - _R3             |     0.000  |     0.433\n",
      "2022-02-09 08:08:09,472 - INFO - allennlp.training.tensorboard_writer - _P2             |     0.000  |     0.645\n",
      "2022-02-09 08:08:09,472 - INFO - allennlp.training.tensorboard_writer - _ROUGE2         |     0.000  |     0.865\n",
      "2022-02-09 08:08:09,473 - INFO - allennlp.training.tensorboard_writer - _BLEU2          |     0.000  |     0.894\n",
      "2022-02-09 08:08:09,473 - INFO - allennlp.training.tensorboard_writer - _ROUGE1         |     0.000  |     0.925\n",
      "2022-02-09 08:08:09,475 - INFO - allennlp.training.tensorboard_writer - EM              |     0.000  |     0.546\n",
      "2022-02-09 08:08:09,479 - INFO - allennlp.training.tensorboard_writer - _BLEU3          |     0.000  |     0.870\n",
      "2022-02-09 08:08:09,480 - INFO - allennlp.training.tensorboard_writer - _R1             |     0.000  |     0.582\n",
      "2022-02-09 08:08:09,481 - INFO - allennlp.training.tensorboard_writer - _R2             |     0.000  |     0.491\n",
      "2022-02-09 08:08:09,485 - INFO - allennlp.training.tensorboard_writer - F1              |     0.000  |     0.664\n",
      "2022-02-09 08:08:09,485 - INFO - allennlp.training.tensorboard_writer - _BLEU1          |     0.000  |     0.919\n",
      "2022-02-09 08:08:09,486 - INFO - allennlp.training.tensorboard_writer - loss            |     0.600  |     1.511\n",
      "2022-02-09 08:08:09,488 - INFO - allennlp.training.tensorboard_writer - F3              |     0.000  |     0.490\n",
      "2022-02-09 08:08:09,489 - INFO - allennlp.training.tensorboard_writer - F2              |     0.000  |     0.557\n",
      "2022-02-09 08:08:09,490 - INFO - allennlp.training.tensorboard_writer - cpu_memory_MB   |  15933.824  |       N/A\n",
      "ROUGE: 0.0000, EM: 0.0000, F1: 0.0000, F2: 0.0000, F3: 0.0000, BLEU4: 0.0000, loss: 0.5141 ||:   5%|5         | 1683/32295 [04:17<1:13:04,  6.98it/s]"
     ]
    },
    {
     "name": "stderr",
     "output_type": "stream",
     "text": [
      "IOPub message rate exceeded.\n",
      "The notebook server will temporarily stop sending output\n",
      "to the client in order to avoid crashing it.\n",
      "To change this limit, set the config variable\n",
      "`--NotebookApp.iopub_msg_rate_limit`.\n",
      "\n",
      "Current values:\n",
      "NotebookApp.iopub_msg_rate_limit=1000.0 (msgs/sec)\n",
      "NotebookApp.rate_limit_window=3.0 (secs)\n",
      "\n"
     ]
    },
    {
     "name": "stdout",
     "output_type": "stream",
     "text": [
      "ROUGE: 0.0000, EM: 0.0000, F1: 0.0000, F2: 0.0000, F3: 0.0000, BLEU4: 0.0000, loss: 0.5118 ||:  24%|##4       | 7854/32295 [19:54<57:57,  7.03it/s]  "
     ]
    },
    {
     "name": "stderr",
     "output_type": "stream",
     "text": [
      "IOPub message rate exceeded.\n",
      "The notebook server will temporarily stop sending output\n",
      "to the client in order to avoid crashing it.\n",
      "To change this limit, set the config variable\n",
      "`--NotebookApp.iopub_msg_rate_limit`.\n",
      "\n",
      "Current values:\n",
      "NotebookApp.iopub_msg_rate_limit=1000.0 (msgs/sec)\n",
      "NotebookApp.rate_limit_window=3.0 (secs)\n",
      "\n"
     ]
    },
    {
     "name": "stdout",
     "output_type": "stream",
     "text": [
      "ROUGE: 0.0000, EM: 0.0000, F1: 0.0000, F2: 0.0000, F3: 0.0000, BLEU4: 0.0000, loss: 0.5231 ||:  46%|####5     | 14764/32295 [37:25<42:52,  6.81it/s]  "
     ]
    },
    {
     "name": "stderr",
     "output_type": "stream",
     "text": [
      "IOPub message rate exceeded.\n",
      "The notebook server will temporarily stop sending output\n",
      "to the client in order to avoid crashing it.\n",
      "To change this limit, set the config variable\n",
      "`--NotebookApp.iopub_msg_rate_limit`.\n",
      "\n",
      "Current values:\n",
      "NotebookApp.iopub_msg_rate_limit=1000.0 (msgs/sec)\n",
      "NotebookApp.rate_limit_window=3.0 (secs)\n",
      "\n"
     ]
    },
    {
     "name": "stdout",
     "output_type": "stream",
     "text": [
      "ROUGE: 0.0000, EM: 0.0000, F1: 0.0000, F2: 0.0000, F3: 0.0000, BLEU4: 0.0000, loss: 0.5284 ||:  65%|######4   | 20874/32295 [52:59<26:28,  7.19it/s]  "
     ]
    },
    {
     "name": "stderr",
     "output_type": "stream",
     "text": [
      "IOPub message rate exceeded.\n",
      "The notebook server will temporarily stop sending output\n",
      "to the client in order to avoid crashing it.\n",
      "To change this limit, set the config variable\n",
      "`--NotebookApp.iopub_msg_rate_limit`.\n",
      "\n",
      "Current values:\n",
      "NotebookApp.iopub_msg_rate_limit=1000.0 (msgs/sec)\n",
      "NotebookApp.rate_limit_window=3.0 (secs)\n",
      "\n"
     ]
    },
    {
     "name": "stdout",
     "output_type": "stream",
     "text": [
      "ROUGE: 0.0000, EM: 0.0000, F1: 0.0000, F2: 0.0000, F3: 0.0000, BLEU4: 0.0000, loss: 0.5364 ||:  86%|########5 | 27773/32295 [1:10:27<10:45,  7.00it/s]"
     ]
    },
    {
     "name": "stderr",
     "output_type": "stream",
     "text": [
      "IOPub message rate exceeded.\n",
      "The notebook server will temporarily stop sending output\n",
      "to the client in order to avoid crashing it.\n",
      "To change this limit, set the config variable\n",
      "`--NotebookApp.iopub_msg_rate_limit`.\n",
      "\n",
      "Current values:\n",
      "NotebookApp.iopub_msg_rate_limit=1000.0 (msgs/sec)\n",
      "NotebookApp.rate_limit_window=3.0 (secs)\n",
      "\n"
     ]
    },
    {
     "name": "stdout",
     "output_type": "stream",
     "text": [
      "ROUGE: 0.0000, EM: 0.0000, F1: 0.0000, F2: 0.0000, F3: 0.0000, BLEU4: 0.0000, loss: 0.5404 ||: 100%|##########| 32295/32295 [1:21:55<00:00,  6.57it/s]\n",
      "ROUGE: 0.9138, EM: 0.5449, F1: 0.6704, F2: 0.5674, F3: 0.4994, BLEU4: 0.8492, loss: 1.5167 ||: 100%|##########| 851/851 [17:46<00:00,  1.25s/it]\n",
      "2022-02-09 09:47:55,927 - INFO - allennlp.training.tensorboard_writer -                     Training |  Validation\n",
      "2022-02-09 09:47:55,929 - INFO - allennlp.training.tensorboard_writer - ROUGE           |     0.000  |     0.914\n",
      "2022-02-09 09:47:55,930 - INFO - allennlp.training.tensorboard_writer - BLEU4           |     0.000  |     0.849\n",
      "2022-02-09 09:47:55,932 - INFO - allennlp.training.tensorboard_writer - _P3             |     0.000  |     0.572\n",
      "2022-02-09 09:47:55,933 - INFO - allennlp.training.tensorboard_writer - _P1             |     0.000  |     0.766\n",
      "2022-02-09 09:47:55,933 - INFO - allennlp.training.tensorboard_writer - gpu_0_memory_MB |  8593.000  |       N/A\n",
      "2022-02-09 09:47:55,934 - INFO - allennlp.training.tensorboard_writer - _R3             |     0.000  |     0.443\n",
      "2022-02-09 09:47:55,935 - INFO - allennlp.training.tensorboard_writer - _P2             |     0.000  |     0.649\n",
      "2022-02-09 09:47:55,935 - INFO - allennlp.training.tensorboard_writer - _ROUGE2         |     0.000  |     0.867\n",
      "2022-02-09 09:47:55,936 - INFO - allennlp.training.tensorboard_writer - _BLEU2          |     0.000  |     0.898\n",
      "2022-02-09 09:47:55,936 - INFO - allennlp.training.tensorboard_writer - _ROUGE1         |     0.000  |     0.926\n",
      "2022-02-09 09:47:55,937 - INFO - allennlp.training.tensorboard_writer - EM              |     0.000  |     0.545\n",
      "2022-02-09 09:47:55,940 - INFO - allennlp.training.tensorboard_writer - _BLEU3          |     0.000  |     0.874\n",
      "2022-02-09 09:47:55,942 - INFO - allennlp.training.tensorboard_writer - _R1             |     0.000  |     0.596\n",
      "2022-02-09 09:47:55,944 - INFO - allennlp.training.tensorboard_writer - _R2             |     0.000  |     0.504\n",
      "2022-02-09 09:47:55,944 - INFO - allennlp.training.tensorboard_writer - F1              |     0.000  |     0.670\n",
      "2022-02-09 09:47:55,945 - INFO - allennlp.training.tensorboard_writer - _BLEU1          |     0.000  |     0.922\n",
      "2022-02-09 09:47:55,945 - INFO - allennlp.training.tensorboard_writer - loss            |     0.540  |     1.517\n",
      "2022-02-09 09:47:55,946 - INFO - allennlp.training.tensorboard_writer - F3              |     0.000  |     0.499\n",
      "2022-02-09 09:47:55,946 - INFO - allennlp.training.tensorboard_writer - F2              |     0.000  |     0.567\n",
      "2022-02-09 09:47:55,947 - INFO - allennlp.training.tensorboard_writer - cpu_memory_MB   |  15934.812  |       N/A\n",
      "ROUGE: 0.0000, EM: 0.0000, F1: 0.0000, F2: 0.0000, F3: 0.0000, BLEU4: 0.0000, loss: 0.4430 ||:   5%|4         | 1456/32295 [03:44<1:15:40,  6.79it/s]"
     ]
    },
    {
     "name": "stderr",
     "output_type": "stream",
     "text": [
      "IOPub message rate exceeded.\n",
      "The notebook server will temporarily stop sending output\n",
      "to the client in order to avoid crashing it.\n",
      "To change this limit, set the config variable\n",
      "`--NotebookApp.iopub_msg_rate_limit`.\n",
      "\n",
      "Current values:\n",
      "NotebookApp.iopub_msg_rate_limit=1000.0 (msgs/sec)\n",
      "NotebookApp.rate_limit_window=3.0 (secs)\n",
      "\n"
     ]
    },
    {
     "name": "stdout",
     "output_type": "stream",
     "text": [
      "ROUGE: 0.0000, EM: 0.0000, F1: 0.0000, F2: 0.0000, F3: 0.0000, BLEU4: 0.0000, loss: 0.4645 ||:  24%|##3       | 7656/32295 [19:33<1:00:07,  6.83it/s]"
     ]
    },
    {
     "name": "stderr",
     "output_type": "stream",
     "text": [
      "IOPub message rate exceeded.\n",
      "The notebook server will temporarily stop sending output\n",
      "to the client in order to avoid crashing it.\n",
      "To change this limit, set the config variable\n",
      "`--NotebookApp.iopub_msg_rate_limit`.\n",
      "\n",
      "Current values:\n",
      "NotebookApp.iopub_msg_rate_limit=1000.0 (msgs/sec)\n",
      "NotebookApp.rate_limit_window=3.0 (secs)\n",
      "\n"
     ]
    },
    {
     "name": "stdout",
     "output_type": "stream",
     "text": [
      "ROUGE: 0.0000, EM: 0.0000, F1: 0.0000, F2: 0.0000, F3: 0.0000, BLEU4: 0.0000, loss: 0.4771 ||:  45%|####5     | 14575/32295 [37:07<42:51,  6.89it/s]  "
     ]
    },
    {
     "name": "stderr",
     "output_type": "stream",
     "text": [
      "IOPub message rate exceeded.\n",
      "The notebook server will temporarily stop sending output\n",
      "to the client in order to avoid crashing it.\n",
      "To change this limit, set the config variable\n",
      "`--NotebookApp.iopub_msg_rate_limit`.\n",
      "\n",
      "Current values:\n",
      "NotebookApp.iopub_msg_rate_limit=1000.0 (msgs/sec)\n",
      "NotebookApp.rate_limit_window=3.0 (secs)\n",
      "\n"
     ]
    },
    {
     "name": "stdout",
     "output_type": "stream",
     "text": [
      "ROUGE: 0.0000, EM: 0.0000, F1: 0.0000, F2: 0.0000, F3: 0.0000, BLEU4: 0.0000, loss: 0.4843 ||:  66%|######6   | 21376/32295 [54:30<26:25,  6.89it/s]  "
     ]
    },
    {
     "name": "stderr",
     "output_type": "stream",
     "text": [
      "IOPub message rate exceeded.\n",
      "The notebook server will temporarily stop sending output\n",
      "to the client in order to avoid crashing it.\n",
      "To change this limit, set the config variable\n",
      "`--NotebookApp.iopub_msg_rate_limit`.\n",
      "\n",
      "Current values:\n",
      "NotebookApp.iopub_msg_rate_limit=1000.0 (msgs/sec)\n",
      "NotebookApp.rate_limit_window=3.0 (secs)\n",
      "\n"
     ]
    },
    {
     "name": "stdout",
     "output_type": "stream",
     "text": [
      "ROUGE: 0.0000, EM: 0.0000, F1: 0.0000, F2: 0.0000, F3: 0.0000, BLEU4: 0.0000, loss: 0.4885 ||:  85%|########4 | 27348/32295 [1:09:57<13:28,  6.12it/s]"
     ]
    },
    {
     "name": "stderr",
     "output_type": "stream",
     "text": [
      "IOPub message rate exceeded.\n",
      "The notebook server will temporarily stop sending output\n",
      "to the client in order to avoid crashing it.\n",
      "To change this limit, set the config variable\n",
      "`--NotebookApp.iopub_msg_rate_limit`.\n",
      "\n",
      "Current values:\n",
      "NotebookApp.iopub_msg_rate_limit=1000.0 (msgs/sec)\n",
      "NotebookApp.rate_limit_window=3.0 (secs)\n",
      "\n"
     ]
    },
    {
     "name": "stdout",
     "output_type": "stream",
     "text": [
      "ROUGE: 0.0000, EM: 0.0000, F1: 0.0000, F2: 0.0000, F3: 0.0000, BLEU4: 0.0000, loss: 0.4917 ||: 100%|##########| 32295/32295 [1:22:43<00:00,  6.51it/s]\n",
      "ROUGE: 0.9107, EM: 0.5325, F1: 0.6706, F2: 0.5692, F3: 0.5017, BLEU4: 0.8482, loss: 1.6484 ||: 100%|##########| 851/851 [17:39<00:00,  1.24s/it]\n",
      "2022-02-09 11:28:22,937 - INFO - allennlp.training.tensorboard_writer -                     Training |  Validation\n",
      "2022-02-09 11:28:22,938 - INFO - allennlp.training.tensorboard_writer - ROUGE           |     0.000  |     0.911\n",
      "2022-02-09 11:28:22,940 - INFO - allennlp.training.tensorboard_writer - BLEU4           |     0.000  |     0.848\n",
      "2022-02-09 11:28:22,942 - INFO - allennlp.training.tensorboard_writer - _P3             |     0.000  |     0.572\n",
      "2022-02-09 11:28:22,942 - INFO - allennlp.training.tensorboard_writer - _P1             |     0.000  |     0.762\n",
      "2022-02-09 11:28:22,942 - INFO - allennlp.training.tensorboard_writer - gpu_0_memory_MB |  8599.000  |       N/A\n",
      "2022-02-09 11:28:22,943 - INFO - allennlp.training.tensorboard_writer - _R3             |     0.000  |     0.447\n",
      "2022-02-09 11:28:22,943 - INFO - allennlp.training.tensorboard_writer - _P2             |     0.000  |     0.648\n",
      "2022-02-09 11:28:22,944 - INFO - allennlp.training.tensorboard_writer - _ROUGE2         |     0.000  |     0.864\n",
      "2022-02-09 11:28:22,945 - INFO - allennlp.training.tensorboard_writer - _BLEU2          |     0.000  |     0.898\n",
      "2022-02-09 11:28:22,945 - INFO - allennlp.training.tensorboard_writer - _ROUGE1         |     0.000  |     0.924\n",
      "2022-02-09 11:28:22,946 - INFO - allennlp.training.tensorboard_writer - EM              |     0.000  |     0.533\n",
      "2022-02-09 11:28:22,946 - INFO - allennlp.training.tensorboard_writer - _BLEU3          |     0.000  |     0.873\n",
      "2022-02-09 11:28:22,950 - INFO - allennlp.training.tensorboard_writer - _R1             |     0.000  |     0.599\n",
      "2022-02-09 11:28:22,951 - INFO - allennlp.training.tensorboard_writer - _R2             |     0.000  |     0.507\n",
      "2022-02-09 11:28:22,951 - INFO - allennlp.training.tensorboard_writer - F1              |     0.000  |     0.671\n",
      "2022-02-09 11:28:22,953 - INFO - allennlp.training.tensorboard_writer - _BLEU1          |     0.000  |     0.923\n",
      "2022-02-09 11:28:22,954 - INFO - allennlp.training.tensorboard_writer - loss            |     0.492  |     1.648\n",
      "2022-02-09 11:28:22,956 - INFO - allennlp.training.tensorboard_writer - F3              |     0.000  |     0.502\n",
      "2022-02-09 11:28:22,957 - INFO - allennlp.training.tensorboard_writer - F2              |     0.000  |     0.569\n",
      "2022-02-09 11:28:22,957 - INFO - allennlp.training.tensorboard_writer - cpu_memory_MB   |  15935.480  |       N/A\n",
      "2022-02-09 11:28:24,458 - INFO - allennlp.training.checkpointer - Best validation performance so far. Copying weights to '../checkpoints/run_multi_bert/best.th'.\n",
      "ROUGE: 0.0000, EM: 0.0000, F1: 0.0000, F2: 0.0000, F3: 0.0000, BLEU4: 0.0000, loss: 0.3885 ||:   3%|2         | 850/32295 [02:12<1:33:18,  5.62it/s]"
     ]
    },
    {
     "name": "stderr",
     "output_type": "stream",
     "text": [
      "IOPub message rate exceeded.\n",
      "The notebook server will temporarily stop sending output\n",
      "to the client in order to avoid crashing it.\n",
      "To change this limit, set the config variable\n",
      "`--NotebookApp.iopub_msg_rate_limit`.\n",
      "\n",
      "Current values:\n",
      "NotebookApp.iopub_msg_rate_limit=1000.0 (msgs/sec)\n",
      "NotebookApp.rate_limit_window=3.0 (secs)\n",
      "\n"
     ]
    },
    {
     "name": "stdout",
     "output_type": "stream",
     "text": [
      "ROUGE: 0.0000, EM: 0.0000, F1: 0.0000, F2: 0.0000, F3: 0.0000, BLEU4: 0.0000, loss: 0.4231 ||:  23%|##2       | 7419/32295 [19:04<59:22,  6.98it/s]  "
     ]
    },
    {
     "name": "stderr",
     "output_type": "stream",
     "text": [
      "IOPub message rate exceeded.\n",
      "The notebook server will temporarily stop sending output\n",
      "to the client in order to avoid crashing it.\n",
      "To change this limit, set the config variable\n",
      "`--NotebookApp.iopub_msg_rate_limit`.\n",
      "\n",
      "Current values:\n",
      "NotebookApp.iopub_msg_rate_limit=1000.0 (msgs/sec)\n",
      "NotebookApp.rate_limit_window=3.0 (secs)\n",
      "\n"
     ]
    },
    {
     "name": "stdout",
     "output_type": "stream",
     "text": [
      "ROUGE: 0.0000, EM: 0.0000, F1: 0.0000, F2: 0.0000, F3: 0.0000, BLEU4: 0.0000, loss: 0.4304 ||:  43%|####3     | 14045/32295 [36:11<1:42:17,  2.97it/s]"
     ]
    },
    {
     "name": "stderr",
     "output_type": "stream",
     "text": [
      "IOPub message rate exceeded.\n",
      "The notebook server will temporarily stop sending output\n",
      "to the client in order to avoid crashing it.\n",
      "To change this limit, set the config variable\n",
      "`--NotebookApp.iopub_msg_rate_limit`.\n",
      "\n",
      "Current values:\n",
      "NotebookApp.iopub_msg_rate_limit=1000.0 (msgs/sec)\n",
      "NotebookApp.rate_limit_window=3.0 (secs)\n",
      "\n"
     ]
    },
    {
     "name": "stdout",
     "output_type": "stream",
     "text": [
      "ROUGE: 0.0000, EM: 0.0000, F1: 0.0000, F2: 0.0000, F3: 0.0000, BLEU4: 0.0000, loss: 0.4362 ||:  62%|######1   | 19996/32295 [51:32<30:17,  6.77it/s]  "
     ]
    },
    {
     "name": "stderr",
     "output_type": "stream",
     "text": [
      "IOPub message rate exceeded.\n",
      "The notebook server will temporarily stop sending output\n",
      "to the client in order to avoid crashing it.\n",
      "To change this limit, set the config variable\n",
      "`--NotebookApp.iopub_msg_rate_limit`.\n",
      "\n",
      "Current values:\n",
      "NotebookApp.iopub_msg_rate_limit=1000.0 (msgs/sec)\n",
      "NotebookApp.rate_limit_window=3.0 (secs)\n",
      "\n"
     ]
    },
    {
     "name": "stdout",
     "output_type": "stream",
     "text": [
      "ROUGE: 0.0000, EM: 0.0000, F1: 0.0000, F2: 0.0000, F3: 0.0000, BLEU4: 0.0000, loss: 0.4418 ||:  83%|########3 | 26939/32295 [1:09:12<12:52,  6.93it/s]"
     ]
    },
    {
     "name": "stderr",
     "output_type": "stream",
     "text": [
      "IOPub message rate exceeded.\n",
      "The notebook server will temporarily stop sending output\n",
      "to the client in order to avoid crashing it.\n",
      "To change this limit, set the config variable\n",
      "`--NotebookApp.iopub_msg_rate_limit`.\n",
      "\n",
      "Current values:\n",
      "NotebookApp.iopub_msg_rate_limit=1000.0 (msgs/sec)\n",
      "NotebookApp.rate_limit_window=3.0 (secs)\n",
      "\n"
     ]
    },
    {
     "name": "stdout",
     "output_type": "stream",
     "text": [
      "ROUGE: 0.0000, EM: 0.0000, F1: 0.0000, F2: 0.0000, F3: 0.0000, BLEU4: 0.0000, loss: 0.4477 ||: 100%|##########| 32295/32295 [1:22:53<00:00,  6.49it/s]\n",
      "ROUGE: 0.9128, EM: 0.5451, F1: 0.6701, F2: 0.5664, F3: 0.4984, BLEU4: 0.8479, loss: 1.7810 ||: 100%|##########| 851/851 [17:29<00:00,  1.23s/it]\n",
      "2022-02-09 13:08:53,478 - INFO - allennlp.training.tensorboard_writer -                     Training |  Validation\n",
      "2022-02-09 13:08:53,480 - INFO - allennlp.training.tensorboard_writer - ROUGE           |     0.000  |     0.913\n",
      "2022-02-09 13:08:53,480 - INFO - allennlp.training.tensorboard_writer - BLEU4           |     0.000  |     0.848\n",
      "2022-02-09 13:08:53,481 - INFO - allennlp.training.tensorboard_writer - _P3             |     0.000  |     0.577\n",
      "2022-02-09 13:08:53,481 - INFO - allennlp.training.tensorboard_writer - _P1             |     0.000  |     0.775\n",
      "2022-02-09 13:08:53,481 - INFO - allennlp.training.tensorboard_writer - gpu_0_memory_MB |  8599.000  |       N/A\n",
      "2022-02-09 13:08:53,482 - INFO - allennlp.training.tensorboard_writer - _R3             |     0.000  |     0.439\n",
      "2022-02-09 13:08:53,482 - INFO - allennlp.training.tensorboard_writer - _P2             |     0.000  |     0.656\n",
      "2022-02-09 13:08:53,483 - INFO - allennlp.training.tensorboard_writer - _ROUGE2         |     0.000  |     0.866\n",
      "2022-02-09 13:08:53,483 - INFO - allennlp.training.tensorboard_writer - _BLEU2          |     0.000  |     0.897\n",
      "2022-02-09 13:08:53,483 - INFO - allennlp.training.tensorboard_writer - _ROUGE1         |     0.000  |     0.925\n",
      "2022-02-09 13:08:53,489 - INFO - allennlp.training.tensorboard_writer - EM              |     0.000  |     0.545\n",
      "2022-02-09 13:08:53,489 - INFO - allennlp.training.tensorboard_writer - _BLEU3          |     0.000  |     0.872\n",
      "2022-02-09 13:08:53,492 - INFO - allennlp.training.tensorboard_writer - _R1             |     0.000  |     0.590\n",
      "2022-02-09 13:08:53,492 - INFO - allennlp.training.tensorboard_writer - _R2             |     0.000  |     0.498\n",
      "2022-02-09 13:08:53,493 - INFO - allennlp.training.tensorboard_writer - F1              |     0.000  |     0.670\n",
      "2022-02-09 13:08:53,494 - INFO - allennlp.training.tensorboard_writer - _BLEU1          |     0.000  |     0.921\n",
      "2022-02-09 13:08:53,494 - INFO - allennlp.training.tensorboard_writer - loss            |     0.448  |     1.781\n",
      "2022-02-09 13:08:53,495 - INFO - allennlp.training.tensorboard_writer - F3              |     0.000  |     0.498\n",
      "2022-02-09 13:08:53,495 - INFO - allennlp.training.tensorboard_writer - F2              |     0.000  |     0.566\n",
      "2022-02-09 13:08:53,496 - INFO - allennlp.training.tensorboard_writer - cpu_memory_MB   |  15936.192  |       N/A\n",
      "ROUGE: 0.0000, EM: 0.0000, F1: 0.0000, F2: 0.0000, F3: 0.0000, BLEU4: 0.0000, loss: 0.3827 ||:   1%|1         | 470/32295 [01:14<1:17:16,  6.86it/s]"
     ]
    },
    {
     "name": "stderr",
     "output_type": "stream",
     "text": [
      "IOPub message rate exceeded.\n",
      "The notebook server will temporarily stop sending output\n",
      "to the client in order to avoid crashing it.\n",
      "To change this limit, set the config variable\n",
      "`--NotebookApp.iopub_msg_rate_limit`.\n",
      "\n",
      "Current values:\n",
      "NotebookApp.iopub_msg_rate_limit=1000.0 (msgs/sec)\n",
      "NotebookApp.rate_limit_window=3.0 (secs)\n",
      "\n"
     ]
    },
    {
     "name": "stdout",
     "output_type": "stream",
     "text": [
      "ROUGE: 0.0000, EM: 0.0000, F1: 0.0000, F2: 0.0000, F3: 0.0000, BLEU4: 0.0000, loss: 0.3894 ||:  22%|##2       | 7193/32295 [18:28<59:49,  6.99it/s]  "
     ]
    },
    {
     "name": "stderr",
     "output_type": "stream",
     "text": [
      "IOPub message rate exceeded.\n",
      "The notebook server will temporarily stop sending output\n",
      "to the client in order to avoid crashing it.\n",
      "To change this limit, set the config variable\n",
      "`--NotebookApp.iopub_msg_rate_limit`.\n",
      "\n",
      "Current values:\n",
      "NotebookApp.iopub_msg_rate_limit=1000.0 (msgs/sec)\n",
      "NotebookApp.rate_limit_window=3.0 (secs)\n",
      "\n"
     ]
    },
    {
     "name": "stdout",
     "output_type": "stream",
     "text": [
      "ROUGE: 0.0000, EM: 0.0000, F1: 0.0000, F2: 0.0000, F3: 0.0000, BLEU4: 0.0000, loss: 0.3993 ||:  43%|####3     | 13930/32295 [35:48<45:38,  6.71it/s]  "
     ]
    },
    {
     "name": "stderr",
     "output_type": "stream",
     "text": [
      "IOPub message rate exceeded.\n",
      "The notebook server will temporarily stop sending output\n",
      "to the client in order to avoid crashing it.\n",
      "To change this limit, set the config variable\n",
      "`--NotebookApp.iopub_msg_rate_limit`.\n",
      "\n",
      "Current values:\n",
      "NotebookApp.iopub_msg_rate_limit=1000.0 (msgs/sec)\n",
      "NotebookApp.rate_limit_window=3.0 (secs)\n",
      "\n"
     ]
    },
    {
     "name": "stdout",
     "output_type": "stream",
     "text": [
      "ROUGE: 0.0000, EM: 0.0000, F1: 0.0000, F2: 0.0000, F3: 0.0000, BLEU4: 0.0000, loss: 0.4146 ||: 100%|##########| 32295/32295 [1:22:48<00:00,  6.50it/s]\n",
      "ROUGE: 0.9114, EM: 0.5386, F1: 0.6729, F2: 0.5644, F3: 0.4928, BLEU4: 0.8477, loss: 1.8649 ||: 100%|##########| 851/851 [17:40<00:00,  1.25s/it]\n",
      "2022-02-09 14:49:27,255 - INFO - allennlp.training.tensorboard_writer -                     Training |  Validation\n",
      "2022-02-09 14:49:27,257 - INFO - allennlp.training.tensorboard_writer - ROUGE           |     0.000  |     0.911\n",
      "2022-02-09 14:49:27,258 - INFO - allennlp.training.tensorboard_writer - BLEU4           |     0.000  |     0.848\n",
      "2022-02-09 14:49:27,258 - INFO - allennlp.training.tensorboard_writer - _P3             |     0.000  |     0.555\n",
      "2022-02-09 14:49:27,259 - INFO - allennlp.training.tensorboard_writer - _P1             |     0.000  |     0.757\n",
      "2022-02-09 14:49:27,259 - INFO - allennlp.training.tensorboard_writer - gpu_0_memory_MB |  8599.000  |       N/A\n",
      "2022-02-09 14:49:27,260 - INFO - allennlp.training.tensorboard_writer - _R3             |     0.000  |     0.443\n",
      "2022-02-09 14:49:27,260 - INFO - allennlp.training.tensorboard_writer - _P2             |     0.000  |     0.635\n",
      "2022-02-09 14:49:27,261 - INFO - allennlp.training.tensorboard_writer - _ROUGE2         |     0.000  |     0.863\n",
      "2022-02-09 14:49:27,261 - INFO - allennlp.training.tensorboard_writer - _BLEU2          |     0.000  |     0.898\n",
      "2022-02-09 14:49:27,261 - INFO - allennlp.training.tensorboard_writer - _ROUGE1         |     0.000  |     0.924\n",
      "2022-02-09 14:49:27,266 - INFO - allennlp.training.tensorboard_writer - EM              |     0.000  |     0.539\n",
      "2022-02-09 14:49:27,267 - INFO - allennlp.training.tensorboard_writer - _BLEU3          |     0.000  |     0.873\n",
      "2022-02-09 14:49:27,268 - INFO - allennlp.training.tensorboard_writer - _R1             |     0.000  |     0.606\n",
      "2022-02-09 14:49:27,268 - INFO - allennlp.training.tensorboard_writer - _R2             |     0.000  |     0.508\n",
      "2022-02-09 14:49:27,270 - INFO - allennlp.training.tensorboard_writer - F1              |     0.000  |     0.673\n",
      "2022-02-09 14:49:27,271 - INFO - allennlp.training.tensorboard_writer - _BLEU1          |     0.000  |     0.924\n",
      "2022-02-09 14:49:27,271 - INFO - allennlp.training.tensorboard_writer - loss            |     0.415  |     1.865\n",
      "2022-02-09 14:49:27,272 - INFO - allennlp.training.tensorboard_writer - F3              |     0.000  |     0.493\n",
      "2022-02-09 14:49:27,273 - INFO - allennlp.training.tensorboard_writer - F2              |     0.000  |     0.564\n",
      "2022-02-09 14:49:27,274 - INFO - allennlp.training.tensorboard_writer - cpu_memory_MB   |  15936.996  |       N/A\n",
      "ROUGE: 0.0000, EM: 0.0000, F1: 0.0000, F2: 0.0000, F3: 0.0000, BLEU4: 0.0000, loss: 0.3805 ||: 100%|##########| 32295/32295 [1:23:27<00:00,  6.45it/s]\n",
      "ROUGE: 0.9117, EM: 0.5413, F1: 0.6536, F2: 0.5540, F3: 0.4899, BLEU4: 0.8455, loss: 1.7280 ||: 100%|##########| 851/851 [17:38<00:00,  1.24s/it]\n",
      "2022-02-09 16:30:37,687 - INFO - allennlp.training.tensorboard_writer -                     Training |  Validation\n",
      "2022-02-09 16:30:37,689 - INFO - allennlp.training.tensorboard_writer - ROUGE           |     0.000  |     0.912\n",
      "2022-02-09 16:30:37,689 - INFO - allennlp.training.tensorboard_writer - BLEU4           |     0.000  |     0.846\n",
      "2022-02-09 16:30:37,690 - INFO - allennlp.training.tensorboard_writer - _P3             |     0.000  |     0.574\n",
      "2022-02-09 16:30:37,693 - INFO - allennlp.training.tensorboard_writer - _P1             |     0.000  |     0.764\n",
      "2022-02-09 16:30:37,693 - INFO - allennlp.training.tensorboard_writer - gpu_0_memory_MB |  8599.000  |       N/A\n",
      "2022-02-09 16:30:37,693 - INFO - allennlp.training.tensorboard_writer - _R3             |     0.000  |     0.427\n",
      "2022-02-09 16:30:37,694 - INFO - allennlp.training.tensorboard_writer - _P2             |     0.000  |     0.649\n",
      "2022-02-09 16:30:37,695 - INFO - allennlp.training.tensorboard_writer - _ROUGE2         |     0.000  |     0.864\n",
      "2022-02-09 16:30:37,695 - INFO - allennlp.training.tensorboard_writer - _BLEU2          |     0.000  |     0.893\n",
      "2022-02-09 16:30:37,696 - INFO - allennlp.training.tensorboard_writer - _ROUGE1         |     0.000  |     0.924\n",
      "2022-02-09 16:30:37,696 - INFO - allennlp.training.tensorboard_writer - EM              |     0.000  |     0.541\n",
      "2022-02-09 16:30:37,697 - INFO - allennlp.training.tensorboard_writer - _BLEU3          |     0.000  |     0.870\n",
      "2022-02-09 16:30:37,699 - INFO - allennlp.training.tensorboard_writer - _R1             |     0.000  |     0.571\n",
      "2022-02-09 16:30:37,699 - INFO - allennlp.training.tensorboard_writer - _R2             |     0.000  |     0.483\n",
      "2022-02-09 16:30:37,703 - INFO - allennlp.training.tensorboard_writer - F1              |     0.000  |     0.654\n",
      "2022-02-09 16:30:37,703 - INFO - allennlp.training.tensorboard_writer - _BLEU1          |     0.000  |     0.918\n",
      "2022-02-09 16:30:37,704 - INFO - allennlp.training.tensorboard_writer - loss            |     0.381  |     1.728\n",
      "2022-02-09 16:30:37,704 - INFO - allennlp.training.tensorboard_writer - F3              |     0.000  |     0.490\n",
      "2022-02-09 16:30:37,707 - INFO - allennlp.training.tensorboard_writer - F2              |     0.000  |     0.554\n",
      "2022-02-09 16:30:37,707 - INFO - allennlp.training.tensorboard_writer - cpu_memory_MB   |  15937.724  |       N/A\n",
      "2022-02-09 16:30:39,255 - INFO - allennlp.training.checkpointer - loading best weights\n",
      "2022-02-09 16:30:39,591 - INFO - allennlp.models.archival - archiving weights and vocabulary to ../checkpoints/run_multi_bert/model.tar.gz\n",
      "2022-02-09 16:31:03,205 - INFO - allennlp.common.util - Metrics: {\n",
      "  \"best_epoch\": 8,\n",
      "  \"peak_cpu_memory_MB\": 15937.724,\n",
      "  \"peak_gpu_0_memory_MB\": 8599,\n",
      "  \"training_duration\": \"19:57:13.087364\",\n",
      "  \"training_start_epoch\": 0,\n",
      "  \"training_epochs\": 11,\n",
      "  \"epoch\": 11,\n",
      "  \"training_ROUGE\": 0,\n",
      "  \"training__ROUGE1\": 0,\n",
      "  \"training__ROUGE2\": 0,\n",
      "  \"training_EM\": 0,\n",
      "  \"training__P1\": 0,\n",
      "  \"training__R1\": 0,\n",
      "  \"training_F1\": 0,\n",
      "  \"training__P2\": 0,\n",
      "  \"training__R2\": 0,\n",
      "  \"training_F2\": 0,\n",
      "  \"training__P3\": 0,\n",
      "  \"training__R3\": 0,\n",
      "  \"training_F3\": 0,\n",
      "  \"training__BLEU1\": 0,\n",
      "  \"training__BLEU2\": 0,\n",
      "  \"training__BLEU3\": 0,\n",
      "  \"training_BLEU4\": 0,\n",
      "  \"training_loss\": 0.3805055926190889,\n",
      "  \"training_cpu_memory_MB\": 15937.724,\n",
      "  \"training_gpu_0_memory_MB\": 8599,\n",
      "  \"validation_ROUGE\": 0.9116934340176239,\n",
      "  \"validation__ROUGE1\": 0.9240286620763628,\n",
      "  \"validation__ROUGE2\": 0.8640605881689144,\n",
      "  \"validation_EM\": 0.5413401253918495,\n",
      "  \"validation__P1\": 0.7639959284571761,\n",
      "  \"validation__R1\": 0.5710248885990653,\n",
      "  \"validation_F1\": 0.653563876103993,\n",
      "  \"validation__P2\": 0.6488829202783543,\n",
      "  \"validation__R2\": 0.48340154615734426,\n",
      "  \"validation_F2\": 0.554049827999583,\n",
      "  \"validation__P3\": 0.5744154676258992,\n",
      "  \"validation__R3\": 0.4270789803593815,\n",
      "  \"validation_F3\": 0.4899094003163798,\n",
      "  \"validation__BLEU1\": 0.9175183007535369,\n",
      "  \"validation__BLEU2\": 0.8931898442292736,\n",
      "  \"validation__BLEU3\": 0.8695605059003239,\n",
      "  \"validation_BLEU4\": 0.845504473579286,\n",
      "  \"validation_loss\": 1.7280243068306813,\n",
      "  \"best_validation_ROUGE\": 0.9107399288099916,\n",
      "  \"best_validation__ROUGE1\": 0.9238748843003394,\n",
      "  \"best_validation__ROUGE2\": 0.8642599383758002,\n",
      "  \"best_validation_EM\": 0.5325235109717869,\n",
      "  \"best_validation__P1\": 0.7621419676214197,\n",
      "  \"best_validation__R1\": 0.5986305836322139,\n",
      "  \"best_validation_F1\": 0.6705624543462381,\n",
      "  \"best_validation__P2\": 0.6482277745496804,\n",
      "  \"best_validation__R2\": 0.5073215097771714,\n",
      "  \"best_validation_F2\": 0.5691836734693877,\n",
      "  \"best_validation__P3\": 0.5720248287671232,\n",
      "  \"best_validation__R3\": 0.4467195988299206,\n",
      "  \"best_validation_F3\": 0.5016659627387489,\n",
      "  \"best_validation__BLEU1\": 0.9229312915131591,\n",
      "  \"best_validation__BLEU2\": 0.8978949521168395,\n",
      "  \"best_validation__BLEU3\": 0.8733846620078832,\n",
      "  \"best_validation_BLEU4\": 0.8482307791012568,\n",
      "  \"best_validation_loss\": 1.6484071983967838\n",
      "}\n"
     ]
    }
   ],
   "source": [
    "!sh train_restoration_bert.sh"
   ]
  },
  {
   "cell_type": "code",
   "execution_count": null,
   "metadata": {},
   "outputs": [],
   "source": []
  }
 ],
 "metadata": {
  "kernelspec": {
   "display_name": "Python 3",
   "language": "python",
   "name": "python3"
  },
  "language_info": {
   "codemirror_mode": {
    "name": "ipython",
    "version": 3
   },
   "file_extension": ".py",
   "mimetype": "text/x-python",
   "name": "python",
   "nbconvert_exporter": "python",
   "pygments_lexer": "ipython3",
   "version": "3.7.0"
  }
 },
 "nbformat": 4,
 "nbformat_minor": 5
}
